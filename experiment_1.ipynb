{
 "cells": [
  {
   "cell_type": "markdown",
   "id": "a2d3bc5b",
   "metadata": {},
   "source": [
    "### Hypothesis: All factors contribute to purchasing of new vehicles from the manufacturer - Baseline Model.\n",
    "Experiment: Perform a regression analysis to determine if there is a correlation between the variables given related to the vehicle purchased and the likelihood of purchasing a new vehicle.\n"
   ]
  },
  {
   "cell_type": "code",
   "execution_count": 1,
   "id": "fe45dda4",
   "metadata": {},
   "outputs": [],
   "source": [
    "# Import necessary libraries\n",
    "import pandas as pd\n",
    "import numpy as np\n",
    "import matplotlib.pyplot as plt\n",
    "import seaborn as sns\n",
    "\n",
    "# Read the dataset\n",
    "car_repurchase = pd.read_csv(\"../repurchase_training.csv\")"
   ]
  },
  {
   "cell_type": "code",
   "execution_count": 2,
   "id": "638c263a",
   "metadata": {},
   "outputs": [
    {
     "data": {
      "text/plain": [
       "(131337, 17)"
      ]
     },
     "execution_count": 2,
     "metadata": {},
     "output_type": "execute_result"
    }
   ],
   "source": [
    "# printing the number of rows and columns in the dataset\n",
    "car_repurchase.shape"
   ]
  },
  {
   "cell_type": "code",
   "execution_count": 3,
   "id": "b117b53d",
   "metadata": {},
   "outputs": [
    {
     "data": {
      "text/html": [
       "<div>\n",
       "<style scoped>\n",
       "    .dataframe tbody tr th:only-of-type {\n",
       "        vertical-align: middle;\n",
       "    }\n",
       "\n",
       "    .dataframe tbody tr th {\n",
       "        vertical-align: top;\n",
       "    }\n",
       "\n",
       "    .dataframe thead th {\n",
       "        text-align: right;\n",
       "    }\n",
       "</style>\n",
       "<table border=\"1\" class=\"dataframe\">\n",
       "  <thead>\n",
       "    <tr style=\"text-align: right;\">\n",
       "      <th></th>\n",
       "      <th>ID</th>\n",
       "      <th>Target</th>\n",
       "      <th>age_band</th>\n",
       "      <th>gender</th>\n",
       "      <th>car_model</th>\n",
       "      <th>car_segment</th>\n",
       "      <th>age_of_vehicle_years</th>\n",
       "      <th>sched_serv_warr</th>\n",
       "      <th>non_sched_serv_warr</th>\n",
       "      <th>sched_serv_paid</th>\n",
       "      <th>non_sched_serv_paid</th>\n",
       "      <th>total_paid_services</th>\n",
       "      <th>total_services</th>\n",
       "      <th>mth_since_last_serv</th>\n",
       "      <th>annualised_mileage</th>\n",
       "      <th>num_dealers_visited</th>\n",
       "      <th>num_serv_dealer_purchased</th>\n",
       "    </tr>\n",
       "  </thead>\n",
       "  <tbody>\n",
       "    <tr>\n",
       "      <th>62483</th>\n",
       "      <td>73378</td>\n",
       "      <td>0</td>\n",
       "      <td>NaN</td>\n",
       "      <td>Male</td>\n",
       "      <td>model_13</td>\n",
       "      <td>Large/SUV</td>\n",
       "      <td>5</td>\n",
       "      <td>4</td>\n",
       "      <td>10</td>\n",
       "      <td>3</td>\n",
       "      <td>7</td>\n",
       "      <td>5</td>\n",
       "      <td>9</td>\n",
       "      <td>8</td>\n",
       "      <td>6</td>\n",
       "      <td>9</td>\n",
       "      <td>4</td>\n",
       "    </tr>\n",
       "    <tr>\n",
       "      <th>114303</th>\n",
       "      <td>134177</td>\n",
       "      <td>0</td>\n",
       "      <td>NaN</td>\n",
       "      <td>NaN</td>\n",
       "      <td>model_11</td>\n",
       "      <td>Small/Medium</td>\n",
       "      <td>2</td>\n",
       "      <td>2</td>\n",
       "      <td>3</td>\n",
       "      <td>1</td>\n",
       "      <td>2</td>\n",
       "      <td>2</td>\n",
       "      <td>2</td>\n",
       "      <td>2</td>\n",
       "      <td>2</td>\n",
       "      <td>1</td>\n",
       "      <td>3</td>\n",
       "    </tr>\n",
       "    <tr>\n",
       "      <th>49976</th>\n",
       "      <td>58718</td>\n",
       "      <td>0</td>\n",
       "      <td>NaN</td>\n",
       "      <td>NaN</td>\n",
       "      <td>model_3</td>\n",
       "      <td>Large/SUV</td>\n",
       "      <td>3</td>\n",
       "      <td>1</td>\n",
       "      <td>9</td>\n",
       "      <td>3</td>\n",
       "      <td>10</td>\n",
       "      <td>10</td>\n",
       "      <td>6</td>\n",
       "      <td>6</td>\n",
       "      <td>8</td>\n",
       "      <td>2</td>\n",
       "      <td>1</td>\n",
       "    </tr>\n",
       "    <tr>\n",
       "      <th>4262</th>\n",
       "      <td>4986</td>\n",
       "      <td>0</td>\n",
       "      <td>NaN</td>\n",
       "      <td>Female</td>\n",
       "      <td>model_2</td>\n",
       "      <td>Small/Medium</td>\n",
       "      <td>8</td>\n",
       "      <td>9</td>\n",
       "      <td>5</td>\n",
       "      <td>9</td>\n",
       "      <td>8</td>\n",
       "      <td>9</td>\n",
       "      <td>7</td>\n",
       "      <td>6</td>\n",
       "      <td>9</td>\n",
       "      <td>9</td>\n",
       "      <td>7</td>\n",
       "    </tr>\n",
       "    <tr>\n",
       "      <th>25830</th>\n",
       "      <td>30344</td>\n",
       "      <td>0</td>\n",
       "      <td>NaN</td>\n",
       "      <td>NaN</td>\n",
       "      <td>model_2</td>\n",
       "      <td>Small/Medium</td>\n",
       "      <td>1</td>\n",
       "      <td>2</td>\n",
       "      <td>2</td>\n",
       "      <td>2</td>\n",
       "      <td>2</td>\n",
       "      <td>2</td>\n",
       "      <td>1</td>\n",
       "      <td>1</td>\n",
       "      <td>2</td>\n",
       "      <td>2</td>\n",
       "      <td>2</td>\n",
       "    </tr>\n",
       "    <tr>\n",
       "      <th>33612</th>\n",
       "      <td>39485</td>\n",
       "      <td>0</td>\n",
       "      <td>NaN</td>\n",
       "      <td>NaN</td>\n",
       "      <td>model_5</td>\n",
       "      <td>Large/SUV</td>\n",
       "      <td>5</td>\n",
       "      <td>6</td>\n",
       "      <td>8</td>\n",
       "      <td>7</td>\n",
       "      <td>9</td>\n",
       "      <td>8</td>\n",
       "      <td>7</td>\n",
       "      <td>5</td>\n",
       "      <td>8</td>\n",
       "      <td>10</td>\n",
       "      <td>8</td>\n",
       "    </tr>\n",
       "    <tr>\n",
       "      <th>44315</th>\n",
       "      <td>52083</td>\n",
       "      <td>0</td>\n",
       "      <td>NaN</td>\n",
       "      <td>NaN</td>\n",
       "      <td>model_4</td>\n",
       "      <td>Small/Medium</td>\n",
       "      <td>5</td>\n",
       "      <td>2</td>\n",
       "      <td>1</td>\n",
       "      <td>1</td>\n",
       "      <td>2</td>\n",
       "      <td>2</td>\n",
       "      <td>2</td>\n",
       "      <td>1</td>\n",
       "      <td>2</td>\n",
       "      <td>2</td>\n",
       "      <td>2</td>\n",
       "    </tr>\n",
       "    <tr>\n",
       "      <th>94841</th>\n",
       "      <td>111333</td>\n",
       "      <td>0</td>\n",
       "      <td>NaN</td>\n",
       "      <td>NaN</td>\n",
       "      <td>model_5</td>\n",
       "      <td>Large/SUV</td>\n",
       "      <td>8</td>\n",
       "      <td>7</td>\n",
       "      <td>2</td>\n",
       "      <td>8</td>\n",
       "      <td>2</td>\n",
       "      <td>5</td>\n",
       "      <td>4</td>\n",
       "      <td>9</td>\n",
       "      <td>6</td>\n",
       "      <td>10</td>\n",
       "      <td>1</td>\n",
       "    </tr>\n",
       "    <tr>\n",
       "      <th>95359</th>\n",
       "      <td>111949</td>\n",
       "      <td>0</td>\n",
       "      <td>3. 35 to 44</td>\n",
       "      <td>Female</td>\n",
       "      <td>model_4</td>\n",
       "      <td>Small/Medium</td>\n",
       "      <td>8</td>\n",
       "      <td>8</td>\n",
       "      <td>9</td>\n",
       "      <td>9</td>\n",
       "      <td>8</td>\n",
       "      <td>8</td>\n",
       "      <td>8</td>\n",
       "      <td>8</td>\n",
       "      <td>7</td>\n",
       "      <td>5</td>\n",
       "      <td>9</td>\n",
       "    </tr>\n",
       "    <tr>\n",
       "      <th>116225</th>\n",
       "      <td>136394</td>\n",
       "      <td>0</td>\n",
       "      <td>NaN</td>\n",
       "      <td>Male</td>\n",
       "      <td>model_2</td>\n",
       "      <td>Small/Medium</td>\n",
       "      <td>7</td>\n",
       "      <td>8</td>\n",
       "      <td>7</td>\n",
       "      <td>9</td>\n",
       "      <td>6</td>\n",
       "      <td>7</td>\n",
       "      <td>7</td>\n",
       "      <td>8</td>\n",
       "      <td>5</td>\n",
       "      <td>5</td>\n",
       "      <td>9</td>\n",
       "    </tr>\n",
       "  </tbody>\n",
       "</table>\n",
       "</div>"
      ],
      "text/plain": [
       "            ID  Target     age_band  gender car_model   car_segment  \\\n",
       "62483    73378       0          NaN    Male  model_13     Large/SUV   \n",
       "114303  134177       0          NaN     NaN  model_11  Small/Medium   \n",
       "49976    58718       0          NaN     NaN   model_3     Large/SUV   \n",
       "4262      4986       0          NaN  Female   model_2  Small/Medium   \n",
       "25830    30344       0          NaN     NaN   model_2  Small/Medium   \n",
       "33612    39485       0          NaN     NaN   model_5     Large/SUV   \n",
       "44315    52083       0          NaN     NaN   model_4  Small/Medium   \n",
       "94841   111333       0          NaN     NaN   model_5     Large/SUV   \n",
       "95359   111949       0  3. 35 to 44  Female   model_4  Small/Medium   \n",
       "116225  136394       0          NaN    Male   model_2  Small/Medium   \n",
       "\n",
       "        age_of_vehicle_years  sched_serv_warr  non_sched_serv_warr  \\\n",
       "62483                      5                4                   10   \n",
       "114303                     2                2                    3   \n",
       "49976                      3                1                    9   \n",
       "4262                       8                9                    5   \n",
       "25830                      1                2                    2   \n",
       "33612                      5                6                    8   \n",
       "44315                      5                2                    1   \n",
       "94841                      8                7                    2   \n",
       "95359                      8                8                    9   \n",
       "116225                     7                8                    7   \n",
       "\n",
       "        sched_serv_paid  non_sched_serv_paid  total_paid_services  \\\n",
       "62483                 3                    7                    5   \n",
       "114303                1                    2                    2   \n",
       "49976                 3                   10                   10   \n",
       "4262                  9                    8                    9   \n",
       "25830                 2                    2                    2   \n",
       "33612                 7                    9                    8   \n",
       "44315                 1                    2                    2   \n",
       "94841                 8                    2                    5   \n",
       "95359                 9                    8                    8   \n",
       "116225                9                    6                    7   \n",
       "\n",
       "        total_services  mth_since_last_serv  annualised_mileage  \\\n",
       "62483                9                    8                   6   \n",
       "114303               2                    2                   2   \n",
       "49976                6                    6                   8   \n",
       "4262                 7                    6                   9   \n",
       "25830                1                    1                   2   \n",
       "33612                7                    5                   8   \n",
       "44315                2                    1                   2   \n",
       "94841                4                    9                   6   \n",
       "95359                8                    8                   7   \n",
       "116225               7                    8                   5   \n",
       "\n",
       "        num_dealers_visited  num_serv_dealer_purchased  \n",
       "62483                     9                          4  \n",
       "114303                    1                          3  \n",
       "49976                     2                          1  \n",
       "4262                      9                          7  \n",
       "25830                     2                          2  \n",
       "33612                    10                          8  \n",
       "44315                     2                          2  \n",
       "94841                    10                          1  \n",
       "95359                     5                          9  \n",
       "116225                    5                          9  "
      ]
     },
     "execution_count": 3,
     "metadata": {},
     "output_type": "execute_result"
    }
   ],
   "source": [
    "# Print 10 samples from the data \n",
    "car_repurchase.sample(10)"
   ]
  },
  {
   "cell_type": "code",
   "execution_count": 4,
   "id": "49f5b19d",
   "metadata": {},
   "outputs": [
    {
     "data": {
      "text/plain": [
       "ID                            int64\n",
       "Target                        int64\n",
       "age_band                     object\n",
       "gender                       object\n",
       "car_model                    object\n",
       "car_segment                  object\n",
       "age_of_vehicle_years          int64\n",
       "sched_serv_warr               int64\n",
       "non_sched_serv_warr           int64\n",
       "sched_serv_paid               int64\n",
       "non_sched_serv_paid           int64\n",
       "total_paid_services           int64\n",
       "total_services                int64\n",
       "mth_since_last_serv           int64\n",
       "annualised_mileage            int64\n",
       "num_dealers_visited           int64\n",
       "num_serv_dealer_purchased     int64\n",
       "dtype: object"
      ]
     },
     "execution_count": 4,
     "metadata": {},
     "output_type": "execute_result"
    }
   ],
   "source": [
    "# Check data types\n",
    "car_repurchase.dtypes"
   ]
  },
  {
   "cell_type": "code",
   "execution_count": 5,
   "id": "8cdc0a30",
   "metadata": {},
   "outputs": [
    {
     "data": {
      "text/plain": [
       "ID                                0\n",
       "Target                            0\n",
       "age_band                     112375\n",
       "gender                        69308\n",
       "car_model                         0\n",
       "car_segment                       0\n",
       "age_of_vehicle_years              0\n",
       "sched_serv_warr                   0\n",
       "non_sched_serv_warr               0\n",
       "sched_serv_paid                   0\n",
       "non_sched_serv_paid               0\n",
       "total_paid_services               0\n",
       "total_services                    0\n",
       "mth_since_last_serv               0\n",
       "annualised_mileage                0\n",
       "num_dealers_visited               0\n",
       "num_serv_dealer_purchased         0\n",
       "dtype: int64"
      ]
     },
     "execution_count": 5,
     "metadata": {},
     "output_type": "execute_result"
    }
   ],
   "source": [
    "# Check for missing values\n",
    "car_repurchase.isnull().sum()"
   ]
  },
  {
   "cell_type": "markdown",
   "id": "c1ba965f",
   "metadata": {},
   "source": [
    "<b>\"age_band\" (accounts for more than 85% of missing variables) and \"gender\" (accounts for more than 52%) are the only columns that have a very large number of null values.  It is better if we remove them as replacing age_band with mode is not a good practice and gender is not important if we see both genders as valuable customers. </b>"
   ]
  },
  {
   "cell_type": "code",
   "execution_count": 6,
   "id": "e7e23cf1",
   "metadata": {},
   "outputs": [],
   "source": [
    "# removing redundant columns\n",
    "car_repurchase = car_repurchase.drop(columns=[\"ID\", \"age_band\", \"gender\"])"
   ]
  },
  {
   "cell_type": "code",
   "execution_count": 7,
   "id": "c85e7afb",
   "metadata": {},
   "outputs": [],
   "source": [
    "# saving the data to csv file to use it in next experiment\n",
    "car_repurchase.to_csv('../datasets/car_repur_clean1.csv', index=False)"
   ]
  },
  {
   "cell_type": "code",
   "execution_count": 8,
   "id": "cfe732fb",
   "metadata": {},
   "outputs": [
    {
     "data": {
      "text/plain": [
       "<Axes: xlabel='Target', ylabel='count'>"
      ]
     },
     "execution_count": 8,
     "metadata": {},
     "output_type": "execute_result"
    },
    {
     "data": {
      "image/png": "[encoded data removed]",
      "text/plain": [
       "<Figure size 640x480 with 1 Axes>"
      ]
     },
     "metadata": {},
     "output_type": "display_data"
    }
   ],
   "source": [
    "# Distribution of target variable\n",
    "sns.countplot(x='Target', data=car_repurchase)"
   ]
  },
  {
   "cell_type": "code",
   "execution_count": 9,
   "id": "f5b16bd8",
   "metadata": {},
   "outputs": [
    {
     "data": {
      "text/plain": [
       "0    127816\n",
       "1      3521\n",
       "Name: Target, dtype: int64"
      ]
     },
     "execution_count": 9,
     "metadata": {},
     "output_type": "execute_result"
    }
   ],
   "source": [
    "# Count the number of target value\n",
    "car_repurchase['Target'].value_counts()"
   ]
  },
  {
   "cell_type": "markdown",
   "id": "d141d808",
   "metadata": {},
   "source": [
    "### <b>Only 2.7% of all consumers are those who have repurchased vehicles. This shows us that the dataset is imbalanced and we need to sample it accordingly for our experiments.</b>"
   ]
  },
  {
   "cell_type": "markdown",
   "id": "205b67f9",
   "metadata": {},
   "source": [
    "### Baseline Model training - Logistic Regression"
   ]
  },
  {
   "cell_type": "code",
   "execution_count": 10,
   "id": "cd458a17",
   "metadata": {},
   "outputs": [],
   "source": [
    "# Import sklearn packages to preprocess data\n",
    "from sklearn.model_selection import train_test_split\n",
    "from sklearn.preprocessing import StandardScaler\n",
    "from sklearn.preprocessing import LabelEncoder\n",
    "\n",
    "# Encoding the categorical variables to numeric\n",
    "le = LabelEncoder()\n",
    "\n",
    "car_repurchase['car_model'] = le.fit_transform(car_repurchase['car_model'])\n",
    "car_repurchase['car_segment'] = le.fit_transform(car_repurchase['car_segment'])\n",
    "\n",
    "# Defining X and y from the data - dependent, independent variables\n",
    "X = car_repurchase.iloc[:,1:14]\n",
    "y = car_repurchase.iloc[:,0]\n",
    "\n",
    "# Split the data into training and testing sets\n",
    "X_train, X_test, y_train, y_test = train_test_split(\n",
    "                                    X, y, test_size=0.25, stratify=y,\n",
    "                                    random_state=23, shuffle=True)\n",
    "\n",
    "# select the numeric data to further scale it in 0-1\n",
    "num_data = car_repurchase.select_dtypes(include=np.number) \n",
    "# pop the target variable to plot each variable against it \n",
    "target = num_data.pop(\"Target\")\n",
    "num_cols = num_data.columns.tolist()\n",
    "\n",
    "# Scale the numeric columns by standard scaler\n",
    "scaler = StandardScaler()\n",
    "X_train[num_cols] =  scaler.fit_transform(X_train[num_cols])\n",
    "X_test[num_cols] = scaler.transform(X_test[num_cols])"
   ]
  },
  {
   "cell_type": "code",
   "execution_count": 11,
   "id": "437ccbe9",
   "metadata": {},
   "outputs": [
    {
     "name": "stdout",
     "output_type": "stream",
     "text": [
      "(98502, 13) (32835, 13)\n"
     ]
    }
   ],
   "source": [
    "print(X_train.shape, X_test.shape)"
   ]
  },
  {
   "cell_type": "code",
   "execution_count": 12,
   "id": "c93ebcef",
   "metadata": {},
   "outputs": [
    {
     "name": "stdout",
     "output_type": "stream",
     "text": [
      "              precision    recall  f1-score   support\n",
      "\n",
      "           0       0.98      1.00      0.99     31955\n",
      "           1       0.81      0.20      0.32       880\n",
      "\n",
      "    accuracy                           0.98     32835\n",
      "   macro avg       0.90      0.60      0.66     32835\n",
      "weighted avg       0.97      0.98      0.97     32835\n",
      "\n",
      "Recall for target 1: 0.20113636363636364\n"
     ]
    }
   ],
   "source": [
    "#importing sklearn packages to fit logistic regression model and evaluate it\n",
    "from sklearn.linear_model import LogisticRegression\n",
    "from sklearn.metrics import classification_report\n",
    "from sklearn.metrics import confusion_matrix, recall_score\n",
    "\n",
    "# Train a logistic regression model\n",
    "clf = LogisticRegression()\n",
    "clf.fit(X_train, y_train)\n",
    "\n",
    "# Evaluate the model on the testing set\n",
    "y_pred = clf.predict(X_test)\n",
    "recall = recall_score(y_test, y_pred, pos_label=1)\n",
    "print(classification_report(y_test, y_pred))\n",
    "print(\"Recall for target 1:\", recall)"
   ]
  },
  {
   "cell_type": "code",
   "execution_count": 13,
   "id": "28495ae4",
   "metadata": {},
   "outputs": [],
   "source": [
    "# importing pickle library\n",
    "import pickle\n",
    "# choose the filename you want\n",
    "filename = '../models/baseline_model_exp1.sav'\n",
    "# dump the model\n",
    "pickle.dump(clf, open(filename, 'wb'))"
   ]
  },
  {
   "cell_type": "markdown",
   "id": "9ef6e28d",
   "metadata": {},
   "source": [
    "### Appendix"
   ]
  },
  {
   "cell_type": "code",
   "execution_count": null,
   "id": "ffbfb38f",
   "metadata": {},
   "outputs": [],
   "source": [
    "# importing math and numpy libraries\n",
    "import math\n",
    "import numpy as np\n",
    "from sklearn.preprocessing import MinMaxScaler\n",
    "\n",
    "# num_data has all the nuerical columns \n",
    "num_data = car_repurchase.select_dtypes(include=np.number) \n",
    "num_cols = num_data.columns.tolist()\n",
    "\n",
    "scaler = MinMaxScaler()\n",
    "num_data_scaled = num_data\n",
    "\n",
    "# fit and transform the selected columns\n",
    "num_data_scaled[num_cols] = scaler.fit_transform(num_data_scaled[num_cols])\n",
    "\n",
    "# fix axes to subplot the scatter plots\n",
    "fig, ax = plt.subplots(nrows=10, ncols=3, figsize=(20, 40))\n",
    "\n",
    "# pop the target variable to plot each variable against it \n",
    "target = num_data_scaled.pop(\"Target\")\n",
    "\n",
    "#loop through each column and plot the scatter plot\n",
    "for index, cols in enumerate(num_data_scaled.columns.values):\n",
    "    sns.scatterplot(data = num_data_scaled,  y = target , x = cols ,hue = target, ax = ax[math.floor(index/3)][index%3])\n",
    "plt.show()"
   ]
  },
  {
   "cell_type": "code",
   "execution_count": null,
   "id": "d924241e",
   "metadata": {},
   "outputs": [],
   "source": []
  },
  {
   "cell_type": "code",
   "execution_count": null,
   "id": "bef244b6",
   "metadata": {},
   "outputs": [],
   "source": []
  }
 ],
 "metadata": {
  "kernelspec": {
   "display_name": "Python 3 (ipykernel)",
   "language": "python",
   "name": "python3"
  },
  "language_info": {
   "codemirror_mode": {
    "name": "ipython",
    "version": 3
   },
   "file_extension": ".py",
   "mimetype": "text/x-python",
   "name": "python",
   "nbconvert_exporter": "python",
   "pygments_lexer": "ipython3",
   "version": "3.10.12"
  }
 },
 "nbformat": 4,
 "nbformat_minor": 5
}
